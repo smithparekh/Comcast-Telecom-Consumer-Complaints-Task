{
 "cells": [
  {
   "cell_type": "code",
   "execution_count": 1,
   "id": "b831a47d",
   "metadata": {},
   "outputs": [],
   "source": [
    "import pandas as pd\n",
    "import numpy as np\n",
    "import matplotlib.pyplot as plt"
   ]
  },
  {
   "cell_type": "code",
   "execution_count": 2,
   "id": "336cb08d",
   "metadata": {},
   "outputs": [],
   "source": [
    "complaints = pd.read_csv(\"C:/Users/Nabee/Downloads/1568699544_comcast_telecom_complaints_data/Comcast_telecom_complaints_data.csv\")"
   ]
  },
  {
   "cell_type": "code",
   "execution_count": 3,
   "id": "2dabeffd",
   "metadata": {},
   "outputs": [
    {
     "data": {
      "text/html": [
       "<div>\n",
       "<style scoped>\n",
       "    .dataframe tbody tr th:only-of-type {\n",
       "        vertical-align: middle;\n",
       "    }\n",
       "\n",
       "    .dataframe tbody tr th {\n",
       "        vertical-align: top;\n",
       "    }\n",
       "\n",
       "    .dataframe thead th {\n",
       "        text-align: right;\n",
       "    }\n",
       "</style>\n",
       "<table border=\"1\" class=\"dataframe\">\n",
       "  <thead>\n",
       "    <tr style=\"text-align: right;\">\n",
       "      <th></th>\n",
       "      <th>Ticket #</th>\n",
       "      <th>Customer Complaint</th>\n",
       "      <th>Date</th>\n",
       "      <th>Date_month_year</th>\n",
       "      <th>Time</th>\n",
       "      <th>Received Via</th>\n",
       "      <th>City</th>\n",
       "      <th>State</th>\n",
       "      <th>Zip code</th>\n",
       "      <th>Status</th>\n",
       "      <th>Filing on Behalf of Someone</th>\n",
       "    </tr>\n",
       "  </thead>\n",
       "  <tbody>\n",
       "    <tr>\n",
       "      <th>0</th>\n",
       "      <td>250635</td>\n",
       "      <td>Comcast Cable Internet Speeds</td>\n",
       "      <td>22-04-15</td>\n",
       "      <td>22-Apr-15</td>\n",
       "      <td>3:53:50 PM</td>\n",
       "      <td>Customer Care Call</td>\n",
       "      <td>Abingdon</td>\n",
       "      <td>Maryland</td>\n",
       "      <td>21009</td>\n",
       "      <td>Closed</td>\n",
       "      <td>No</td>\n",
       "    </tr>\n",
       "    <tr>\n",
       "      <th>1</th>\n",
       "      <td>223441</td>\n",
       "      <td>Payment disappear - service got disconnected</td>\n",
       "      <td>04-08-15</td>\n",
       "      <td>04-Aug-15</td>\n",
       "      <td>10:22:56 AM</td>\n",
       "      <td>Internet</td>\n",
       "      <td>Acworth</td>\n",
       "      <td>Georgia</td>\n",
       "      <td>30102</td>\n",
       "      <td>Closed</td>\n",
       "      <td>No</td>\n",
       "    </tr>\n",
       "    <tr>\n",
       "      <th>2</th>\n",
       "      <td>242732</td>\n",
       "      <td>Speed and Service</td>\n",
       "      <td>18-04-15</td>\n",
       "      <td>18-Apr-15</td>\n",
       "      <td>9:55:47 AM</td>\n",
       "      <td>Internet</td>\n",
       "      <td>Acworth</td>\n",
       "      <td>Georgia</td>\n",
       "      <td>30101</td>\n",
       "      <td>Closed</td>\n",
       "      <td>Yes</td>\n",
       "    </tr>\n",
       "    <tr>\n",
       "      <th>3</th>\n",
       "      <td>277946</td>\n",
       "      <td>Comcast Imposed a New Usage Cap of 300GB that ...</td>\n",
       "      <td>05-07-15</td>\n",
       "      <td>05-Jul-15</td>\n",
       "      <td>11:59:35 AM</td>\n",
       "      <td>Internet</td>\n",
       "      <td>Acworth</td>\n",
       "      <td>Georgia</td>\n",
       "      <td>30101</td>\n",
       "      <td>Open</td>\n",
       "      <td>Yes</td>\n",
       "    </tr>\n",
       "    <tr>\n",
       "      <th>4</th>\n",
       "      <td>307175</td>\n",
       "      <td>Comcast not working and no service to boot</td>\n",
       "      <td>26-05-15</td>\n",
       "      <td>26-May-15</td>\n",
       "      <td>1:25:26 PM</td>\n",
       "      <td>Internet</td>\n",
       "      <td>Acworth</td>\n",
       "      <td>Georgia</td>\n",
       "      <td>30101</td>\n",
       "      <td>Solved</td>\n",
       "      <td>No</td>\n",
       "    </tr>\n",
       "  </tbody>\n",
       "</table>\n",
       "</div>"
      ],
      "text/plain": [
       "  Ticket #                                 Customer Complaint      Date  \\\n",
       "0   250635                      Comcast Cable Internet Speeds  22-04-15   \n",
       "1   223441       Payment disappear - service got disconnected  04-08-15   \n",
       "2   242732                                  Speed and Service  18-04-15   \n",
       "3   277946  Comcast Imposed a New Usage Cap of 300GB that ...  05-07-15   \n",
       "4   307175         Comcast not working and no service to boot  26-05-15   \n",
       "\n",
       "  Date_month_year         Time        Received Via      City     State  \\\n",
       "0       22-Apr-15   3:53:50 PM  Customer Care Call  Abingdon  Maryland   \n",
       "1       04-Aug-15  10:22:56 AM            Internet   Acworth   Georgia   \n",
       "2       18-Apr-15   9:55:47 AM            Internet   Acworth   Georgia   \n",
       "3       05-Jul-15  11:59:35 AM            Internet   Acworth   Georgia   \n",
       "4       26-May-15   1:25:26 PM            Internet   Acworth   Georgia   \n",
       "\n",
       "   Zip code  Status Filing on Behalf of Someone  \n",
       "0     21009  Closed                          No  \n",
       "1     30102  Closed                          No  \n",
       "2     30101  Closed                         Yes  \n",
       "3     30101    Open                         Yes  \n",
       "4     30101  Solved                          No  "
      ]
     },
     "execution_count": 3,
     "metadata": {},
     "output_type": "execute_result"
    }
   ],
   "source": [
    "complaints.head()"
   ]
  },
  {
   "cell_type": "code",
   "execution_count": 4,
   "id": "3492e715",
   "metadata": {},
   "outputs": [
    {
     "data": {
      "text/plain": [
       "Ticket #                       0\n",
       "Customer Complaint             0\n",
       "Date                           0\n",
       "Date_month_year                0\n",
       "Time                           0\n",
       "Received Via                   0\n",
       "City                           0\n",
       "State                          0\n",
       "Zip code                       0\n",
       "Status                         0\n",
       "Filing on Behalf of Someone    0\n",
       "dtype: int64"
      ]
     },
     "execution_count": 4,
     "metadata": {},
     "output_type": "execute_result"
    }
   ],
   "source": [
    "complaints.isnull().sum()"
   ]
  },
  {
   "cell_type": "code",
   "execution_count": 5,
   "id": "79daa19f",
   "metadata": {},
   "outputs": [
    {
     "data": {
      "text/plain": [
       "(2224, 11)"
      ]
     },
     "execution_count": 5,
     "metadata": {},
     "output_type": "execute_result"
    }
   ],
   "source": [
    "complaints.shape"
   ]
  },
  {
   "cell_type": "code",
   "execution_count": 6,
   "id": "fe08abe3",
   "metadata": {},
   "outputs": [],
   "source": [
    "complaints['Date_month_year']=complaints['Date_month_year'].apply(pd.to_datetime)\n",
    "complaints=complaints.set_index('Date_month_year')"
   ]
  },
  {
   "cell_type": "code",
   "execution_count": 7,
   "id": "5b646448",
   "metadata": {},
   "outputs": [
    {
     "data": {
      "text/plain": [
       "Text(0.5, 1.0, 'MONTHLY TREND CHART')"
      ]
     },
     "execution_count": 7,
     "metadata": {},
     "output_type": "execute_result"
    },
    {
     "data": {
      "image/png": "[encoded data removed]",
      "text/plain": [
       "<Figure size 432x288 with 1 Axes>"
      ]
     },
     "metadata": {
      "needs_background": "light"
     },
     "output_type": "display_data"
    }
   ],
   "source": [
    "months= complaints.groupby(pd.Grouper(freq=\"M\")).size().plot()\n",
    "plt.xlabel(\"MONTHS\")\n",
    "plt.ylabel(\"FREQUENCY\")\n",
    "plt.title(\"MONTHLY TREND CHART\")"
   ]
  },
  {
   "cell_type": "code",
   "execution_count": 8,
   "id": "c2071d0c",
   "metadata": {},
   "outputs": [
    {
     "data": {
      "text/plain": [
       "24-06-15    218\n",
       "23-06-15    190\n",
       "25-06-15     98\n",
       "26-06-15     55\n",
       "30-06-15     53\n",
       "29-06-15     51\n",
       "18-06-15     47\n",
       "06-12-15     43\n",
       "27-06-15     39\n",
       "15-06-15     34\n",
       "Name: Date, dtype: int64"
      ]
     },
     "execution_count": 8,
     "metadata": {},
     "output_type": "execute_result"
    }
   ],
   "source": [
    "complaints['Date'].value_counts(dropna=False)[:10]"
   ]
  },
  {
   "cell_type": "code",
   "execution_count": 9,
   "id": "223d7c64",
   "metadata": {},
   "outputs": [
    {
     "data": {
      "text/plain": [
       "Text(0.5, 1.0, 'DAILY TREND CHART')"
      ]
     },
     "execution_count": 9,
     "metadata": {},
     "output_type": "execute_result"
    },
    {
     "data": {
      "image/png": "[encoded data removed]",
      "text/plain": [
       "<Figure size 432x432 with 1 Axes>"
      ]
     },
     "metadata": {
      "needs_background": "light"
     },
     "output_type": "display_data"
    }
   ],
   "source": [
    "complaints= complaints.sort_values(by='Date')\n",
    "plt.figure(figsize=(6,6))\n",
    "complaints['Date'].value_counts().plot()\n",
    "plt.xlabel(\"Date\")\n",
    "plt.ylabel(\"FREQUENCY\")\n",
    "plt.title(\"DAILY TREND CHART\")"
   ]
  },
  {
   "cell_type": "code",
   "execution_count": 10,
   "id": "d010c350",
   "metadata": {},
   "outputs": [
    {
     "data": {
      "text/plain": [
       "Comcast                     83\n",
       "Comcast Internet            18\n",
       "Comcast Data Cap            17\n",
       "comcast                     13\n",
       "Data Caps                   11\n",
       "Comcast Billing             11\n",
       "Comcast Data Caps           11\n",
       "Unfair Billing Practices     9\n",
       "Comcast data caps            8\n",
       "Comcast/Xfinity              8\n",
       "Name: Customer Complaint, dtype: int64"
      ]
     },
     "execution_count": 10,
     "metadata": {},
     "output_type": "execute_result"
    }
   ],
   "source": [
    "complaints['Customer Complaint'].value_counts(dropna=False)[:10]"
   ]
  },
  {
   "cell_type": "code",
   "execution_count": 11,
   "id": "dfac21cd",
   "metadata": {},
   "outputs": [
    {
     "data": {
      "text/plain": [
       "<AxesSubplot:>"
      ]
     },
     "execution_count": 11,
     "metadata": {},
     "output_type": "execute_result"
    },
    {
     "data": {
      "image/png": "[encoded data removed]",
      "text/plain": [
       "<Figure size 432x288 with 1 Axes>"
      ]
     },
     "metadata": {
      "needs_background": "light"
     },
     "output_type": "display_data"
    }
   ],
   "source": [
    "complaints['Customer Complaint'].value_counts(dropna=False)[:10].plot.bar()"
   ]
  },
  {
   "cell_type": "code",
   "execution_count": 12,
   "id": "93afef87",
   "metadata": {},
   "outputs": [],
   "source": [
    "complaints_type = complaints['Customer Complaint'].str.upper().value_counts()"
   ]
  },
  {
   "cell_type": "code",
   "execution_count": 53,
   "id": "fc65f1a6",
   "metadata": {},
   "outputs": [
    {
     "data": {
      "text/plain": [
       "COMCAST                     102\n",
       "COMCAST DATA CAP             30\n",
       "COMCAST INTERNET             29\n",
       "COMCAST DATA CAPS            21\n",
       "COMCAST BILLING              18\n",
       "COMCAST SERVICE              15\n",
       "INTERNET SPEED               15\n",
       "UNFAIR BILLING PRACTICES     13\n",
       "DATA CAPS                    13\n",
       "DATA CAP                     12\n",
       "Name: Customer Complaint, dtype: int64"
      ]
     },
     "execution_count": 53,
     "metadata": {},
     "output_type": "execute_result"
    }
   ],
   "source": [
    "complaints_type.head(10)"
   ]
  },
  {
   "cell_type": "code",
   "execution_count": 14,
   "id": "709ad44d",
   "metadata": {},
   "outputs": [
    {
     "data": {
      "text/plain": [
       "array(['Closed', 'Open', 'Solved', 'Pending'], dtype=object)"
      ]
     },
     "execution_count": 14,
     "metadata": {},
     "output_type": "execute_result"
    }
   ],
   "source": [
    "complaints.Status.unique()"
   ]
  },
  {
   "cell_type": "code",
   "execution_count": 15,
   "id": "edad20f3",
   "metadata": {},
   "outputs": [],
   "source": [
    "complaints['New Status']=['Open' if Status=='Open' or Status=='Pending' else 'Closed' for Status in complaints['Status']]"
   ]
  },
  {
   "cell_type": "code",
   "execution_count": 16,
   "id": "20e7d7b5",
   "metadata": {},
   "outputs": [],
   "source": [
    "complaints= complaints.drop(['Status'], axis=1)"
   ]
  },
  {
   "cell_type": "code",
   "execution_count": 17,
   "id": "3d65555d",
   "metadata": {},
   "outputs": [
    {
     "data": {
      "text/html": [
       "<div>\n",
       "<style scoped>\n",
       "    .dataframe tbody tr th:only-of-type {\n",
       "        vertical-align: middle;\n",
       "    }\n",
       "\n",
       "    .dataframe tbody tr th {\n",
       "        vertical-align: top;\n",
       "    }\n",
       "\n",
       "    .dataframe thead th {\n",
       "        text-align: right;\n",
       "    }\n",
       "</style>\n",
       "<table border=\"1\" class=\"dataframe\">\n",
       "  <thead>\n",
       "    <tr style=\"text-align: right;\">\n",
       "      <th></th>\n",
       "      <th>Ticket #</th>\n",
       "      <th>Customer Complaint</th>\n",
       "      <th>Date</th>\n",
       "      <th>Time</th>\n",
       "      <th>Received Via</th>\n",
       "      <th>City</th>\n",
       "      <th>State</th>\n",
       "      <th>Zip code</th>\n",
       "      <th>Filing on Behalf of Someone</th>\n",
       "      <th>New Status</th>\n",
       "    </tr>\n",
       "    <tr>\n",
       "      <th>Date_month_year</th>\n",
       "      <th></th>\n",
       "      <th></th>\n",
       "      <th></th>\n",
       "      <th></th>\n",
       "      <th></th>\n",
       "      <th></th>\n",
       "      <th></th>\n",
       "      <th></th>\n",
       "      <th></th>\n",
       "      <th></th>\n",
       "    </tr>\n",
       "  </thead>\n",
       "  <tbody>\n",
       "    <tr>\n",
       "      <th>2015-01-04</th>\n",
       "      <td>211976</td>\n",
       "      <td>Fraudulent claims reported to collections agency</td>\n",
       "      <td>04-01-15</td>\n",
       "      <td>1:26:53 PM</td>\n",
       "      <td>Customer Care Call</td>\n",
       "      <td>Atlanta</td>\n",
       "      <td>Georgia</td>\n",
       "      <td>30312</td>\n",
       "      <td>No</td>\n",
       "      <td>Closed</td>\n",
       "    </tr>\n",
       "    <tr>\n",
       "      <th>2015-01-04</th>\n",
       "      <td>211677</td>\n",
       "      <td>Comcast refusal of service</td>\n",
       "      <td>04-01-15</td>\n",
       "      <td>12:01:06 PM</td>\n",
       "      <td>Customer Care Call</td>\n",
       "      <td>Wayne</td>\n",
       "      <td>Pennsylvania</td>\n",
       "      <td>19087</td>\n",
       "      <td>No</td>\n",
       "      <td>Closed</td>\n",
       "    </tr>\n",
       "    <tr>\n",
       "      <th>2015-01-04</th>\n",
       "      <td>212507</td>\n",
       "      <td>Comcast Cable</td>\n",
       "      <td>04-01-15</td>\n",
       "      <td>3:54:43 PM</td>\n",
       "      <td>Internet</td>\n",
       "      <td>Franklin</td>\n",
       "      <td>Tennessee</td>\n",
       "      <td>37067</td>\n",
       "      <td>No</td>\n",
       "      <td>Closed</td>\n",
       "    </tr>\n",
       "    <tr>\n",
       "      <th>2015-01-04</th>\n",
       "      <td>213120</td>\n",
       "      <td>Data Overages</td>\n",
       "      <td>04-01-15</td>\n",
       "      <td>8:05:57 PM</td>\n",
       "      <td>Internet</td>\n",
       "      <td>Savannah</td>\n",
       "      <td>Georgia</td>\n",
       "      <td>31406</td>\n",
       "      <td>No</td>\n",
       "      <td>Closed</td>\n",
       "    </tr>\n",
       "    <tr>\n",
       "      <th>2015-01-04</th>\n",
       "      <td>211478</td>\n",
       "      <td>Comcast</td>\n",
       "      <td>04-01-15</td>\n",
       "      <td>10:47:35 AM</td>\n",
       "      <td>Internet</td>\n",
       "      <td>North Huntingdon</td>\n",
       "      <td>Pennsylvania</td>\n",
       "      <td>15642</td>\n",
       "      <td>No</td>\n",
       "      <td>Closed</td>\n",
       "    </tr>\n",
       "    <tr>\n",
       "      <th>...</th>\n",
       "      <td>...</td>\n",
       "      <td>...</td>\n",
       "      <td>...</td>\n",
       "      <td>...</td>\n",
       "      <td>...</td>\n",
       "      <td>...</td>\n",
       "      <td>...</td>\n",
       "      <td>...</td>\n",
       "      <td>...</td>\n",
       "      <td>...</td>\n",
       "    </tr>\n",
       "    <tr>\n",
       "      <th>2015-05-31</th>\n",
       "      <td>316088</td>\n",
       "      <td>Comcast</td>\n",
       "      <td>31-05-15</td>\n",
       "      <td>11:02:38 PM</td>\n",
       "      <td>Customer Care Call</td>\n",
       "      <td>Beaverton</td>\n",
       "      <td>Oregon</td>\n",
       "      <td>97006</td>\n",
       "      <td>No</td>\n",
       "      <td>Open</td>\n",
       "    </tr>\n",
       "    <tr>\n",
       "      <th>2015-05-31</th>\n",
       "      <td>315759</td>\n",
       "      <td>Comcast of East Windsor NJ Complaint</td>\n",
       "      <td>31-05-15</td>\n",
       "      <td>3:25:33 PM</td>\n",
       "      <td>Internet</td>\n",
       "      <td>East Windsor</td>\n",
       "      <td>New Jersey</td>\n",
       "      <td>8520</td>\n",
       "      <td>No</td>\n",
       "      <td>Open</td>\n",
       "    </tr>\n",
       "    <tr>\n",
       "      <th>2015-05-31</th>\n",
       "      <td>316040</td>\n",
       "      <td>n/a (b) (6)</td>\n",
       "      <td>31-05-15</td>\n",
       "      <td>9:25:28 PM</td>\n",
       "      <td>Internet</td>\n",
       "      <td>Loganville</td>\n",
       "      <td>Georgia</td>\n",
       "      <td>30052</td>\n",
       "      <td>No</td>\n",
       "      <td>Open</td>\n",
       "    </tr>\n",
       "    <tr>\n",
       "      <th>2015-05-31</th>\n",
       "      <td>315836</td>\n",
       "      <td>Complaint against Comcast for incredibly bad s...</td>\n",
       "      <td>31-05-15</td>\n",
       "      <td>4:47:08 PM</td>\n",
       "      <td>Customer Care Call</td>\n",
       "      <td>Edgewood</td>\n",
       "      <td>Washington</td>\n",
       "      <td>98372</td>\n",
       "      <td>No</td>\n",
       "      <td>Open</td>\n",
       "    </tr>\n",
       "    <tr>\n",
       "      <th>2015-05-31</th>\n",
       "      <td>315865</td>\n",
       "      <td>Questionable internet slowdown</td>\n",
       "      <td>31-05-15</td>\n",
       "      <td>5:38:21 PM</td>\n",
       "      <td>Customer Care Call</td>\n",
       "      <td>Peabody</td>\n",
       "      <td>Massachusetts</td>\n",
       "      <td>1960</td>\n",
       "      <td>No</td>\n",
       "      <td>Closed</td>\n",
       "    </tr>\n",
       "  </tbody>\n",
       "</table>\n",
       "<p>2224 rows × 10 columns</p>\n",
       "</div>"
      ],
      "text/plain": [
       "                Ticket #                                 Customer Complaint  \\\n",
       "Date_month_year                                                               \n",
       "2015-01-04        211976   Fraudulent claims reported to collections agency   \n",
       "2015-01-04        211677                         Comcast refusal of service   \n",
       "2015-01-04        212507                                      Comcast Cable   \n",
       "2015-01-04        213120                                      Data Overages   \n",
       "2015-01-04        211478                                            Comcast   \n",
       "...                  ...                                                ...   \n",
       "2015-05-31        316088                                            Comcast   \n",
       "2015-05-31        315759               Comcast of East Windsor NJ Complaint   \n",
       "2015-05-31        316040                                        n/a (b) (6)   \n",
       "2015-05-31        315836  Complaint against Comcast for incredibly bad s...   \n",
       "2015-05-31        315865                     Questionable internet slowdown   \n",
       "\n",
       "                     Date         Time        Received Via              City  \\\n",
       "Date_month_year                                                                \n",
       "2015-01-04       04-01-15   1:26:53 PM  Customer Care Call           Atlanta   \n",
       "2015-01-04       04-01-15  12:01:06 PM  Customer Care Call             Wayne   \n",
       "2015-01-04       04-01-15   3:54:43 PM            Internet          Franklin   \n",
       "2015-01-04       04-01-15   8:05:57 PM            Internet          Savannah   \n",
       "2015-01-04       04-01-15  10:47:35 AM            Internet  North Huntingdon   \n",
       "...                   ...          ...                 ...               ...   \n",
       "2015-05-31       31-05-15  11:02:38 PM  Customer Care Call         Beaverton   \n",
       "2015-05-31       31-05-15   3:25:33 PM            Internet      East Windsor   \n",
       "2015-05-31       31-05-15   9:25:28 PM            Internet        Loganville   \n",
       "2015-05-31       31-05-15   4:47:08 PM  Customer Care Call          Edgewood   \n",
       "2015-05-31       31-05-15   5:38:21 PM  Customer Care Call           Peabody   \n",
       "\n",
       "                         State  Zip code Filing on Behalf of Someone  \\\n",
       "Date_month_year                                                        \n",
       "2015-01-04             Georgia     30312                          No   \n",
       "2015-01-04        Pennsylvania     19087                          No   \n",
       "2015-01-04           Tennessee     37067                          No   \n",
       "2015-01-04             Georgia     31406                          No   \n",
       "2015-01-04        Pennsylvania     15642                          No   \n",
       "...                        ...       ...                         ...   \n",
       "2015-05-31              Oregon     97006                          No   \n",
       "2015-05-31          New Jersey      8520                          No   \n",
       "2015-05-31             Georgia     30052                          No   \n",
       "2015-05-31          Washington     98372                          No   \n",
       "2015-05-31       Massachusetts      1960                          No   \n",
       "\n",
       "                New Status  \n",
       "Date_month_year             \n",
       "2015-01-04          Closed  \n",
       "2015-01-04          Closed  \n",
       "2015-01-04          Closed  \n",
       "2015-01-04          Closed  \n",
       "2015-01-04          Closed  \n",
       "...                    ...  \n",
       "2015-05-31            Open  \n",
       "2015-05-31            Open  \n",
       "2015-05-31            Open  \n",
       "2015-05-31            Open  \n",
       "2015-05-31          Closed  \n",
       "\n",
       "[2224 rows x 10 columns]"
      ]
     },
     "execution_count": 17,
     "metadata": {},
     "output_type": "execute_result"
    }
   ],
   "source": [
    "complaints"
   ]
  },
  {
   "cell_type": "code",
   "execution_count": 18,
   "id": "b3bce02f",
   "metadata": {},
   "outputs": [
    {
     "data": {
      "text/plain": [
       "State\n",
       "Georgia         288\n",
       "Florida         240\n",
       "California      220\n",
       "Illinois        164\n",
       "Tennessee       143\n",
       "Pennsylvania    130\n",
       "Michigan        115\n",
       "Washington       98\n",
       "Colorado         80\n",
       "Maryland         78\n",
       "dtype: int64"
      ]
     },
     "execution_count": 18,
     "metadata": {},
     "output_type": "execute_result"
    }
   ],
   "source": [
    "complaints.groupby([\"State\"]).size().sort_values(ascending=False)[:10]"
   ]
  },
  {
   "cell_type": "code",
   "execution_count": 24,
   "id": "5d4997c4",
   "metadata": {},
   "outputs": [
    {
     "name": "stdout",
     "output_type": "stream",
     "text": [
      "New Status            Closed  Open\n",
      "State                             \n",
      "Alabama                 17.0   9.0\n",
      "Arizona                 14.0   6.0\n",
      "Arkansas                 6.0   NaN\n",
      "California             159.0  61.0\n",
      "Colorado                58.0  22.0\n",
      "Connecticut              9.0   3.0\n",
      "Delaware                 8.0   4.0\n",
      "District Of Columbia    14.0   2.0\n",
      "District of Columbia     1.0   NaN\n",
      "Florida                201.0  39.0\n",
      "Georgia                208.0  80.0\n",
      "Illinois               135.0  29.0\n",
      "Indiana                 50.0   9.0\n",
      "Iowa                     1.0   NaN\n",
      "Kansas                   1.0   1.0\n",
      "Kentucky                 4.0   3.0\n",
      "Louisiana               12.0   1.0\n",
      "Maine                    3.0   2.0\n",
      "Maryland                63.0  15.0\n",
      "Massachusetts           50.0  11.0\n",
      "Michigan                92.0  23.0\n",
      "Minnesota               29.0   4.0\n",
      "Mississippi             23.0  16.0\n",
      "Missouri                 3.0   1.0\n",
      "Montana                  1.0   NaN\n",
      "Nevada                   1.0   NaN\n",
      "New Hampshire            8.0   4.0\n",
      "New Jersey              56.0  19.0\n",
      "New Mexico              11.0   4.0\n",
      "New York                 6.0   NaN\n",
      "North Carolina           3.0   NaN\n",
      "Ohio                     3.0   NaN\n",
      "Oregon                  36.0  13.0\n",
      "Pennsylvania           110.0  20.0\n",
      "Rhode Island             1.0   NaN\n",
      "South Carolina          15.0   3.0\n",
      "Tennessee               96.0  47.0\n",
      "Texas                   49.0  22.0\n",
      "Utah                    16.0   6.0\n",
      "Vermont                  2.0   1.0\n",
      "Virginia                49.0  11.0\n",
      "Washington              75.0  23.0\n",
      "West Virginia            8.0   3.0\n"
     ]
    }
   ],
   "source": [
    "complaint_status= complaints.groupby([\"State\",\"New Status\"]).size().unstack()\n",
    "print(complaint_status)"
   ]
  },
  {
   "cell_type": "code",
   "execution_count": 32,
   "id": "82346202",
   "metadata": {},
   "outputs": [
    {
     "data": {
      "text/plain": [
       "<AxesSubplot:xlabel='State'>"
      ]
     },
     "execution_count": 32,
     "metadata": {},
     "output_type": "execute_result"
    },
    {
     "data": {
      "image/png": "[encoded data removed]",
      "text/plain": [
       "<Figure size 720x720 with 1 Axes>"
      ]
     },
     "metadata": {
      "needs_background": "light"
     },
     "output_type": "display_data"
    }
   ],
   "source": [
    "complaint_status.plot.bar(figsize=(10,10), stacked=True)"
   ]
  },
  {
   "cell_type": "code",
   "execution_count": 54,
   "id": "2cafcbcc",
   "metadata": {},
   "outputs": [
    {
     "data": {
      "text/plain": [
       "Georgia         288\n",
       "Florida         240\n",
       "California      220\n",
       "Illinois        164\n",
       "Tennessee       143\n",
       "Pennsylvania    130\n",
       "Michigan        115\n",
       "Washington       98\n",
       "Colorado         80\n",
       "Maryland         78\n",
       "Name: State, dtype: int64"
      ]
     },
     "execution_count": 54,
     "metadata": {},
     "output_type": "execute_result"
    }
   ],
   "source": [
    "complaints['State'].value_counts()[:10]"
   ]
  },
  {
   "cell_type": "code",
   "execution_count": 35,
   "id": "b1eedff5",
   "metadata": {},
   "outputs": [
    {
     "data": {
      "text/plain": [
       "Closed    1707\n",
       "Open       517\n",
       "Name: New Status, dtype: int64"
      ]
     },
     "execution_count": 35,
     "metadata": {},
     "output_type": "execute_result"
    }
   ],
   "source": [
    "complaints['New Status'].value_counts()"
   ]
  },
  {
   "cell_type": "code",
   "execution_count": 36,
   "id": "aaf3d32b",
   "metadata": {},
   "outputs": [
    {
     "data": {
      "text/html": [
       "<div>\n",
       "<style scoped>\n",
       "    .dataframe tbody tr th:only-of-type {\n",
       "        vertical-align: middle;\n",
       "    }\n",
       "\n",
       "    .dataframe tbody tr th {\n",
       "        vertical-align: top;\n",
       "    }\n",
       "\n",
       "    .dataframe thead th {\n",
       "        text-align: right;\n",
       "    }\n",
       "</style>\n",
       "<table border=\"1\" class=\"dataframe\">\n",
       "  <thead>\n",
       "    <tr style=\"text-align: right;\">\n",
       "      <th>New Status</th>\n",
       "      <th>Closed</th>\n",
       "      <th>Open</th>\n",
       "      <th>Unresolved_prct</th>\n",
       "    </tr>\n",
       "    <tr>\n",
       "      <th>State</th>\n",
       "      <th></th>\n",
       "      <th></th>\n",
       "      <th></th>\n",
       "    </tr>\n",
       "  </thead>\n",
       "  <tbody>\n",
       "    <tr>\n",
       "      <th>Georgia</th>\n",
       "      <td>208.0</td>\n",
       "      <td>80.0</td>\n",
       "      <td>15.473888</td>\n",
       "    </tr>\n",
       "    <tr>\n",
       "      <th>California</th>\n",
       "      <td>159.0</td>\n",
       "      <td>61.0</td>\n",
       "      <td>11.798839</td>\n",
       "    </tr>\n",
       "    <tr>\n",
       "      <th>Tennessee</th>\n",
       "      <td>96.0</td>\n",
       "      <td>47.0</td>\n",
       "      <td>9.090909</td>\n",
       "    </tr>\n",
       "    <tr>\n",
       "      <th>Florida</th>\n",
       "      <td>201.0</td>\n",
       "      <td>39.0</td>\n",
       "      <td>7.543520</td>\n",
       "    </tr>\n",
       "    <tr>\n",
       "      <th>Illinois</th>\n",
       "      <td>135.0</td>\n",
       "      <td>29.0</td>\n",
       "      <td>5.609284</td>\n",
       "    </tr>\n",
       "    <tr>\n",
       "      <th>Washington</th>\n",
       "      <td>75.0</td>\n",
       "      <td>23.0</td>\n",
       "      <td>4.448743</td>\n",
       "    </tr>\n",
       "    <tr>\n",
       "      <th>Michigan</th>\n",
       "      <td>92.0</td>\n",
       "      <td>23.0</td>\n",
       "      <td>4.448743</td>\n",
       "    </tr>\n",
       "    <tr>\n",
       "      <th>Colorado</th>\n",
       "      <td>58.0</td>\n",
       "      <td>22.0</td>\n",
       "      <td>4.255319</td>\n",
       "    </tr>\n",
       "    <tr>\n",
       "      <th>Texas</th>\n",
       "      <td>49.0</td>\n",
       "      <td>22.0</td>\n",
       "      <td>4.255319</td>\n",
       "    </tr>\n",
       "    <tr>\n",
       "      <th>Pennsylvania</th>\n",
       "      <td>110.0</td>\n",
       "      <td>20.0</td>\n",
       "      <td>3.868472</td>\n",
       "    </tr>\n",
       "    <tr>\n",
       "      <th>New Jersey</th>\n",
       "      <td>56.0</td>\n",
       "      <td>19.0</td>\n",
       "      <td>3.675048</td>\n",
       "    </tr>\n",
       "    <tr>\n",
       "      <th>Mississippi</th>\n",
       "      <td>23.0</td>\n",
       "      <td>16.0</td>\n",
       "      <td>3.094778</td>\n",
       "    </tr>\n",
       "    <tr>\n",
       "      <th>Maryland</th>\n",
       "      <td>63.0</td>\n",
       "      <td>15.0</td>\n",
       "      <td>2.901354</td>\n",
       "    </tr>\n",
       "    <tr>\n",
       "      <th>Oregon</th>\n",
       "      <td>36.0</td>\n",
       "      <td>13.0</td>\n",
       "      <td>2.514507</td>\n",
       "    </tr>\n",
       "    <tr>\n",
       "      <th>Virginia</th>\n",
       "      <td>49.0</td>\n",
       "      <td>11.0</td>\n",
       "      <td>2.127660</td>\n",
       "    </tr>\n",
       "    <tr>\n",
       "      <th>Massachusetts</th>\n",
       "      <td>50.0</td>\n",
       "      <td>11.0</td>\n",
       "      <td>2.127660</td>\n",
       "    </tr>\n",
       "    <tr>\n",
       "      <th>Alabama</th>\n",
       "      <td>17.0</td>\n",
       "      <td>9.0</td>\n",
       "      <td>1.740812</td>\n",
       "    </tr>\n",
       "    <tr>\n",
       "      <th>Indiana</th>\n",
       "      <td>50.0</td>\n",
       "      <td>9.0</td>\n",
       "      <td>1.740812</td>\n",
       "    </tr>\n",
       "    <tr>\n",
       "      <th>Utah</th>\n",
       "      <td>16.0</td>\n",
       "      <td>6.0</td>\n",
       "      <td>1.160542</td>\n",
       "    </tr>\n",
       "    <tr>\n",
       "      <th>Arizona</th>\n",
       "      <td>14.0</td>\n",
       "      <td>6.0</td>\n",
       "      <td>1.160542</td>\n",
       "    </tr>\n",
       "    <tr>\n",
       "      <th>New Hampshire</th>\n",
       "      <td>8.0</td>\n",
       "      <td>4.0</td>\n",
       "      <td>0.773694</td>\n",
       "    </tr>\n",
       "    <tr>\n",
       "      <th>New Mexico</th>\n",
       "      <td>11.0</td>\n",
       "      <td>4.0</td>\n",
       "      <td>0.773694</td>\n",
       "    </tr>\n",
       "    <tr>\n",
       "      <th>Minnesota</th>\n",
       "      <td>29.0</td>\n",
       "      <td>4.0</td>\n",
       "      <td>0.773694</td>\n",
       "    </tr>\n",
       "    <tr>\n",
       "      <th>Delaware</th>\n",
       "      <td>8.0</td>\n",
       "      <td>4.0</td>\n",
       "      <td>0.773694</td>\n",
       "    </tr>\n",
       "    <tr>\n",
       "      <th>West Virginia</th>\n",
       "      <td>8.0</td>\n",
       "      <td>3.0</td>\n",
       "      <td>0.580271</td>\n",
       "    </tr>\n",
       "    <tr>\n",
       "      <th>Connecticut</th>\n",
       "      <td>9.0</td>\n",
       "      <td>3.0</td>\n",
       "      <td>0.580271</td>\n",
       "    </tr>\n",
       "    <tr>\n",
       "      <th>Kentucky</th>\n",
       "      <td>4.0</td>\n",
       "      <td>3.0</td>\n",
       "      <td>0.580271</td>\n",
       "    </tr>\n",
       "    <tr>\n",
       "      <th>South Carolina</th>\n",
       "      <td>15.0</td>\n",
       "      <td>3.0</td>\n",
       "      <td>0.580271</td>\n",
       "    </tr>\n",
       "    <tr>\n",
       "      <th>Maine</th>\n",
       "      <td>3.0</td>\n",
       "      <td>2.0</td>\n",
       "      <td>0.386847</td>\n",
       "    </tr>\n",
       "    <tr>\n",
       "      <th>District Of Columbia</th>\n",
       "      <td>14.0</td>\n",
       "      <td>2.0</td>\n",
       "      <td>0.386847</td>\n",
       "    </tr>\n",
       "    <tr>\n",
       "      <th>Kansas</th>\n",
       "      <td>1.0</td>\n",
       "      <td>1.0</td>\n",
       "      <td>0.193424</td>\n",
       "    </tr>\n",
       "    <tr>\n",
       "      <th>Vermont</th>\n",
       "      <td>2.0</td>\n",
       "      <td>1.0</td>\n",
       "      <td>0.193424</td>\n",
       "    </tr>\n",
       "    <tr>\n",
       "      <th>Missouri</th>\n",
       "      <td>3.0</td>\n",
       "      <td>1.0</td>\n",
       "      <td>0.193424</td>\n",
       "    </tr>\n",
       "    <tr>\n",
       "      <th>Louisiana</th>\n",
       "      <td>12.0</td>\n",
       "      <td>1.0</td>\n",
       "      <td>0.193424</td>\n",
       "    </tr>\n",
       "    <tr>\n",
       "      <th>Montana</th>\n",
       "      <td>1.0</td>\n",
       "      <td>0.0</td>\n",
       "      <td>0.000000</td>\n",
       "    </tr>\n",
       "    <tr>\n",
       "      <th>Rhode Island</th>\n",
       "      <td>1.0</td>\n",
       "      <td>0.0</td>\n",
       "      <td>0.000000</td>\n",
       "    </tr>\n",
       "    <tr>\n",
       "      <th>Ohio</th>\n",
       "      <td>3.0</td>\n",
       "      <td>0.0</td>\n",
       "      <td>0.000000</td>\n",
       "    </tr>\n",
       "    <tr>\n",
       "      <th>District of Columbia</th>\n",
       "      <td>1.0</td>\n",
       "      <td>0.0</td>\n",
       "      <td>0.000000</td>\n",
       "    </tr>\n",
       "    <tr>\n",
       "      <th>North Carolina</th>\n",
       "      <td>3.0</td>\n",
       "      <td>0.0</td>\n",
       "      <td>0.000000</td>\n",
       "    </tr>\n",
       "    <tr>\n",
       "      <th>New York</th>\n",
       "      <td>6.0</td>\n",
       "      <td>0.0</td>\n",
       "      <td>0.000000</td>\n",
       "    </tr>\n",
       "    <tr>\n",
       "      <th>Nevada</th>\n",
       "      <td>1.0</td>\n",
       "      <td>0.0</td>\n",
       "      <td>0.000000</td>\n",
       "    </tr>\n",
       "    <tr>\n",
       "      <th>Arkansas</th>\n",
       "      <td>6.0</td>\n",
       "      <td>0.0</td>\n",
       "      <td>0.000000</td>\n",
       "    </tr>\n",
       "    <tr>\n",
       "      <th>Iowa</th>\n",
       "      <td>1.0</td>\n",
       "      <td>0.0</td>\n",
       "      <td>0.000000</td>\n",
       "    </tr>\n",
       "  </tbody>\n",
       "</table>\n",
       "</div>"
      ],
      "text/plain": [
       "New Status            Closed  Open  Unresolved_prct\n",
       "State                                              \n",
       "Georgia                208.0  80.0        15.473888\n",
       "California             159.0  61.0        11.798839\n",
       "Tennessee               96.0  47.0         9.090909\n",
       "Florida                201.0  39.0         7.543520\n",
       "Illinois               135.0  29.0         5.609284\n",
       "Washington              75.0  23.0         4.448743\n",
       "Michigan                92.0  23.0         4.448743\n",
       "Colorado                58.0  22.0         4.255319\n",
       "Texas                   49.0  22.0         4.255319\n",
       "Pennsylvania           110.0  20.0         3.868472\n",
       "New Jersey              56.0  19.0         3.675048\n",
       "Mississippi             23.0  16.0         3.094778\n",
       "Maryland                63.0  15.0         2.901354\n",
       "Oregon                  36.0  13.0         2.514507\n",
       "Virginia                49.0  11.0         2.127660\n",
       "Massachusetts           50.0  11.0         2.127660\n",
       "Alabama                 17.0   9.0         1.740812\n",
       "Indiana                 50.0   9.0         1.740812\n",
       "Utah                    16.0   6.0         1.160542\n",
       "Arizona                 14.0   6.0         1.160542\n",
       "New Hampshire            8.0   4.0         0.773694\n",
       "New Mexico              11.0   4.0         0.773694\n",
       "Minnesota               29.0   4.0         0.773694\n",
       "Delaware                 8.0   4.0         0.773694\n",
       "West Virginia            8.0   3.0         0.580271\n",
       "Connecticut              9.0   3.0         0.580271\n",
       "Kentucky                 4.0   3.0         0.580271\n",
       "South Carolina          15.0   3.0         0.580271\n",
       "Maine                    3.0   2.0         0.386847\n",
       "District Of Columbia    14.0   2.0         0.386847\n",
       "Kansas                   1.0   1.0         0.193424\n",
       "Vermont                  2.0   1.0         0.193424\n",
       "Missouri                 3.0   1.0         0.193424\n",
       "Louisiana               12.0   1.0         0.193424\n",
       "Montana                  1.0   0.0         0.000000\n",
       "Rhode Island             1.0   0.0         0.000000\n",
       "Ohio                     3.0   0.0         0.000000\n",
       "District of Columbia     1.0   0.0         0.000000\n",
       "North Carolina           3.0   0.0         0.000000\n",
       "New York                 6.0   0.0         0.000000\n",
       "Nevada                   1.0   0.0         0.000000\n",
       "Arkansas                 6.0   0.0         0.000000\n",
       "Iowa                     1.0   0.0         0.000000"
      ]
     },
     "execution_count": 36,
     "metadata": {},
     "output_type": "execute_result"
    }
   ],
   "source": [
    "unresolved_com=complaints.groupby(['State','New Status']).size().unstack().fillna(0).sort_values(by='Open',ascending=False)\n",
    "unresolved_com['Unresolved_prct'] = unresolved_com['Open']/unresolved_com['Open'].sum()*100\n",
    "unresolved_com"
   ]
  },
  {
   "cell_type": "code",
   "execution_count": 39,
   "id": "c6f17d20",
   "metadata": {},
   "outputs": [
    {
     "data": {
      "text/plain": [
       "<AxesSubplot:xlabel='State'>"
      ]
     },
     "execution_count": 39,
     "metadata": {},
     "output_type": "execute_result"
    },
    {
     "data": {
      "image/png": "[encoded data removed]",
      "text/plain": [
       "<Figure size 432x288 with 1 Axes>"
      ]
     },
     "metadata": {
      "needs_background": "light"
     },
     "output_type": "display_data"
    }
   ],
   "source": [
    "unresolved_com.plot()"
   ]
  },
  {
   "cell_type": "code",
   "execution_count": 43,
   "id": "511ab682",
   "metadata": {},
   "outputs": [
    {
     "data": {
      "text/plain": [
       "array(['Customer Care Call', 'Internet'], dtype=object)"
      ]
     },
     "execution_count": 43,
     "metadata": {},
     "output_type": "execute_result"
    }
   ],
   "source": [
    "complaints['Received Via'].unique()"
   ]
  },
  {
   "cell_type": "code",
   "execution_count": 45,
   "id": "465a185b",
   "metadata": {},
   "outputs": [
    {
     "data": {
      "text/html": [
       "<div>\n",
       "<style scoped>\n",
       "    .dataframe tbody tr th:only-of-type {\n",
       "        vertical-align: middle;\n",
       "    }\n",
       "\n",
       "    .dataframe tbody tr th {\n",
       "        vertical-align: top;\n",
       "    }\n",
       "\n",
       "    .dataframe thead th {\n",
       "        text-align: right;\n",
       "    }\n",
       "</style>\n",
       "<table border=\"1\" class=\"dataframe\">\n",
       "  <thead>\n",
       "    <tr style=\"text-align: right;\">\n",
       "      <th>New Status</th>\n",
       "      <th>Closed</th>\n",
       "      <th>Open</th>\n",
       "      <th>Resolved</th>\n",
       "    </tr>\n",
       "    <tr>\n",
       "      <th>Received Via</th>\n",
       "      <th></th>\n",
       "      <th></th>\n",
       "      <th></th>\n",
       "    </tr>\n",
       "  </thead>\n",
       "  <tbody>\n",
       "    <tr>\n",
       "      <th>Customer Care Call</th>\n",
       "      <td>864</td>\n",
       "      <td>255</td>\n",
       "      <td>50.615114</td>\n",
       "    </tr>\n",
       "    <tr>\n",
       "      <th>Internet</th>\n",
       "      <td>843</td>\n",
       "      <td>262</td>\n",
       "      <td>49.384886</td>\n",
       "    </tr>\n",
       "  </tbody>\n",
       "</table>\n",
       "</div>"
      ],
      "text/plain": [
       "New Status          Closed  Open   Resolved\n",
       "Received Via                               \n",
       "Customer Care Call     864   255  50.615114\n",
       "Internet               843   262  49.384886"
      ]
     },
     "execution_count": 45,
     "metadata": {},
     "output_type": "execute_result"
    }
   ],
   "source": [
    "total_resovled=complaints.groupby(['Received Via', 'New Status']).size().unstack().fillna(0)\n",
    "total_resovled['Resolved'] = total_resovled['Closed']/total_resovled['Closed'].sum()*100\n",
    "total_resovled"
   ]
  },
  {
   "cell_type": "code",
   "execution_count": 52,
   "id": "0f5c2f1c",
   "metadata": {},
   "outputs": [
    {
     "data": {
      "text/plain": [
       "<AxesSubplot:xlabel='Received Via'>"
      ]
     },
     "execution_count": 52,
     "metadata": {},
     "output_type": "execute_result"
    },
    {
     "data": {
      "image/png": "[encoded data removed]",
      "text/plain": [
       "<Figure size 576x576 with 1 Axes>"
      ]
     },
     "metadata": {
      "needs_background": "light"
     },
     "output_type": "display_data"
    }
   ],
   "source": [
    "total_resovled.plot(kind='bar', figsize=(8,8))"
   ]
  },
  {
   "cell_type": "code",
   "execution_count": null,
   "id": "728d2713",
   "metadata": {},
   "outputs": [],
   "source": []
  }
 ],
 "metadata": {
  "kernelspec": {
   "display_name": "Python 3 (ipykernel)",
   "language": "python",
   "name": "python3"
  },
  "language_info": {
   "codemirror_mode": {
    "name": "ipython",
    "version": 3
   },
   "file_extension": ".py",
   "mimetype": "text/x-python",
   "name": "python",
   "nbconvert_exporter": "python",
   "pygments_lexer": "ipython3",
   "version": "3.9.12"
  }
 },
 "nbformat": 4,
 "nbformat_minor": 5
}
